{
 "cells": [
  {
   "cell_type": "code",
   "execution_count": 1,
   "metadata": {},
   "outputs": [],
   "source": [
    "import pandas as pd\n",
    "import numpy as np\n",
    "import matplotlib.pyplot as plt\n",
    "import seaborn as sns"
   ]
  },
  {
   "cell_type": "code",
   "execution_count": 2,
   "metadata": {},
   "outputs": [
    {
     "data": {
      "text/html": [
       "<div>\n",
       "<style scoped>\n",
       "    .dataframe tbody tr th:only-of-type {\n",
       "        vertical-align: middle;\n",
       "    }\n",
       "\n",
       "    .dataframe tbody tr th {\n",
       "        vertical-align: top;\n",
       "    }\n",
       "\n",
       "    .dataframe thead th {\n",
       "        text-align: right;\n",
       "    }\n",
       "</style>\n",
       "<table border=\"1\" class=\"dataframe\">\n",
       "  <thead>\n",
       "    <tr style=\"text-align: right;\">\n",
       "      <th></th>\n",
       "      <th>Image.Var</th>\n",
       "      <th>Image.Skew</th>\n",
       "      <th>Image.Curt</th>\n",
       "      <th>Entropy</th>\n",
       "      <th>Class</th>\n",
       "    </tr>\n",
       "  </thead>\n",
       "  <tbody>\n",
       "    <tr>\n",
       "      <th>0</th>\n",
       "      <td>3.62160</td>\n",
       "      <td>8.6661</td>\n",
       "      <td>-2.8073</td>\n",
       "      <td>-0.44699</td>\n",
       "      <td>0</td>\n",
       "    </tr>\n",
       "    <tr>\n",
       "      <th>1</th>\n",
       "      <td>4.54590</td>\n",
       "      <td>8.1674</td>\n",
       "      <td>-2.4586</td>\n",
       "      <td>-1.46210</td>\n",
       "      <td>0</td>\n",
       "    </tr>\n",
       "    <tr>\n",
       "      <th>2</th>\n",
       "      <td>3.86600</td>\n",
       "      <td>-2.6383</td>\n",
       "      <td>1.9242</td>\n",
       "      <td>0.10645</td>\n",
       "      <td>0</td>\n",
       "    </tr>\n",
       "    <tr>\n",
       "      <th>3</th>\n",
       "      <td>3.45660</td>\n",
       "      <td>9.5228</td>\n",
       "      <td>-4.0112</td>\n",
       "      <td>-3.59440</td>\n",
       "      <td>0</td>\n",
       "    </tr>\n",
       "    <tr>\n",
       "      <th>4</th>\n",
       "      <td>0.32924</td>\n",
       "      <td>-4.4552</td>\n",
       "      <td>4.5718</td>\n",
       "      <td>-0.98880</td>\n",
       "      <td>0</td>\n",
       "    </tr>\n",
       "  </tbody>\n",
       "</table>\n",
       "</div>"
      ],
      "text/plain": [
       "   Image.Var  Image.Skew  Image.Curt  Entropy  Class\n",
       "0    3.62160      8.6661     -2.8073 -0.44699      0\n",
       "1    4.54590      8.1674     -2.4586 -1.46210      0\n",
       "2    3.86600     -2.6383      1.9242  0.10645      0\n",
       "3    3.45660      9.5228     -4.0112 -3.59440      0\n",
       "4    0.32924     -4.4552      4.5718 -0.98880      0"
      ]
     },
     "execution_count": 2,
     "metadata": {},
     "output_type": "execute_result"
    }
   ],
   "source": [
    "bna = pd.read_csv('bank_note_data.csv')\n",
    "bna.head()"
   ]
  },
  {
   "cell_type": "code",
   "execution_count": 3,
   "metadata": {},
   "outputs": [
    {
     "data": {
      "text/plain": [
       "Image.Var  Image.Skew  Image.Curt  Entropy  Class\n",
       "False      False       False       False    False    1372\n",
       "dtype: int64"
      ]
     },
     "execution_count": 3,
     "metadata": {},
     "output_type": "execute_result"
    }
   ],
   "source": [
    "bna.isnull().value_counts()"
   ]
  },
  {
   "cell_type": "code",
   "execution_count": 4,
   "metadata": {},
   "outputs": [
    {
     "name": "stdout",
     "output_type": "stream",
     "text": [
      "<class 'pandas.core.frame.DataFrame'>\n",
      "RangeIndex: 1372 entries, 0 to 1371\n",
      "Data columns (total 5 columns):\n",
      " #   Column      Non-Null Count  Dtype  \n",
      "---  ------      --------------  -----  \n",
      " 0   Image.Var   1372 non-null   float64\n",
      " 1   Image.Skew  1372 non-null   float64\n",
      " 2   Image.Curt  1372 non-null   float64\n",
      " 3   Entropy     1372 non-null   float64\n",
      " 4   Class       1372 non-null   int64  \n",
      "dtypes: float64(4), int64(1)\n",
      "memory usage: 53.7 KB\n"
     ]
    }
   ],
   "source": [
    "bna.info()"
   ]
  },
  {
   "cell_type": "code",
   "execution_count": 5,
   "metadata": {},
   "outputs": [
    {
     "data": {
      "text/html": [
       "<div>\n",
       "<style scoped>\n",
       "    .dataframe tbody tr th:only-of-type {\n",
       "        vertical-align: middle;\n",
       "    }\n",
       "\n",
       "    .dataframe tbody tr th {\n",
       "        vertical-align: top;\n",
       "    }\n",
       "\n",
       "    .dataframe thead th {\n",
       "        text-align: right;\n",
       "    }\n",
       "</style>\n",
       "<table border=\"1\" class=\"dataframe\">\n",
       "  <thead>\n",
       "    <tr style=\"text-align: right;\">\n",
       "      <th></th>\n",
       "      <th>Image.Var</th>\n",
       "      <th>Image.Skew</th>\n",
       "      <th>Image.Curt</th>\n",
       "      <th>Entropy</th>\n",
       "      <th>Class</th>\n",
       "    </tr>\n",
       "  </thead>\n",
       "  <tbody>\n",
       "    <tr>\n",
       "      <th>count</th>\n",
       "      <td>1372.000000</td>\n",
       "      <td>1372.000000</td>\n",
       "      <td>1372.000000</td>\n",
       "      <td>1372.000000</td>\n",
       "      <td>1372.000000</td>\n",
       "    </tr>\n",
       "    <tr>\n",
       "      <th>mean</th>\n",
       "      <td>0.433735</td>\n",
       "      <td>1.922353</td>\n",
       "      <td>1.397627</td>\n",
       "      <td>-1.191657</td>\n",
       "      <td>0.444606</td>\n",
       "    </tr>\n",
       "    <tr>\n",
       "      <th>std</th>\n",
       "      <td>2.842763</td>\n",
       "      <td>5.869047</td>\n",
       "      <td>4.310030</td>\n",
       "      <td>2.101013</td>\n",
       "      <td>0.497103</td>\n",
       "    </tr>\n",
       "    <tr>\n",
       "      <th>min</th>\n",
       "      <td>-7.042100</td>\n",
       "      <td>-13.773100</td>\n",
       "      <td>-5.286100</td>\n",
       "      <td>-8.548200</td>\n",
       "      <td>0.000000</td>\n",
       "    </tr>\n",
       "    <tr>\n",
       "      <th>25%</th>\n",
       "      <td>-1.773000</td>\n",
       "      <td>-1.708200</td>\n",
       "      <td>-1.574975</td>\n",
       "      <td>-2.413450</td>\n",
       "      <td>0.000000</td>\n",
       "    </tr>\n",
       "    <tr>\n",
       "      <th>50%</th>\n",
       "      <td>0.496180</td>\n",
       "      <td>2.319650</td>\n",
       "      <td>0.616630</td>\n",
       "      <td>-0.586650</td>\n",
       "      <td>0.000000</td>\n",
       "    </tr>\n",
       "    <tr>\n",
       "      <th>75%</th>\n",
       "      <td>2.821475</td>\n",
       "      <td>6.814625</td>\n",
       "      <td>3.179250</td>\n",
       "      <td>0.394810</td>\n",
       "      <td>1.000000</td>\n",
       "    </tr>\n",
       "    <tr>\n",
       "      <th>max</th>\n",
       "      <td>6.824800</td>\n",
       "      <td>12.951600</td>\n",
       "      <td>17.927400</td>\n",
       "      <td>2.449500</td>\n",
       "      <td>1.000000</td>\n",
       "    </tr>\n",
       "  </tbody>\n",
       "</table>\n",
       "</div>"
      ],
      "text/plain": [
       "         Image.Var   Image.Skew   Image.Curt      Entropy        Class\n",
       "count  1372.000000  1372.000000  1372.000000  1372.000000  1372.000000\n",
       "mean      0.433735     1.922353     1.397627    -1.191657     0.444606\n",
       "std       2.842763     5.869047     4.310030     2.101013     0.497103\n",
       "min      -7.042100   -13.773100    -5.286100    -8.548200     0.000000\n",
       "25%      -1.773000    -1.708200    -1.574975    -2.413450     0.000000\n",
       "50%       0.496180     2.319650     0.616630    -0.586650     0.000000\n",
       "75%       2.821475     6.814625     3.179250     0.394810     1.000000\n",
       "max       6.824800    12.951600    17.927400     2.449500     1.000000"
      ]
     },
     "execution_count": 5,
     "metadata": {},
     "output_type": "execute_result"
    }
   ],
   "source": [
    "bna.describe()"
   ]
  },
  {
   "cell_type": "code",
   "execution_count": 6,
   "metadata": {},
   "outputs": [
    {
     "data": {
      "text/plain": [
       "Image.Var    -0.724843\n",
       "Image.Skew   -0.444688\n",
       "Image.Curt    0.155883\n",
       "Entropy      -0.023424\n",
       "Class         1.000000\n",
       "Name: Class, dtype: float64"
      ]
     },
     "execution_count": 6,
     "metadata": {},
     "output_type": "execute_result"
    }
   ],
   "source": [
    "bna.corr()['Class']"
   ]
  },
  {
   "cell_type": "code",
   "execution_count": 7,
   "metadata": {},
   "outputs": [],
   "source": [
    "from sklearn.model_selection import train_test_split"
   ]
  },
  {
   "cell_type": "code",
   "execution_count": 11,
   "metadata": {},
   "outputs": [],
   "source": [
    "X = bna.drop('Class',axis=1).values\n",
    "y = bna['Class'].values\n",
    "X_train, X_test, y_train, y_test = train_test_split(X, y, test_size=0.3)"
   ]
  },
  {
   "cell_type": "code",
   "execution_count": 12,
   "metadata": {},
   "outputs": [],
   "source": [
    "from sklearn.preprocessing import MinMaxScaler"
   ]
  },
  {
   "cell_type": "code",
   "execution_count": 13,
   "metadata": {},
   "outputs": [],
   "source": [
    "scaler = MinMaxScaler()\n",
    "X_train = scaler.fit_transform(X_train)\n",
    "X_test = scaler.transform(X_test)"
   ]
  },
  {
   "cell_type": "code",
   "execution_count": 14,
   "metadata": {},
   "outputs": [
    {
     "data": {
      "text/plain": [
       "(960, 4)"
      ]
     },
     "execution_count": 14,
     "metadata": {},
     "output_type": "execute_result"
    }
   ],
   "source": [
    "X_train.shape"
   ]
  },
  {
   "cell_type": "code",
   "execution_count": 15,
   "metadata": {},
   "outputs": [
    {
     "name": "stderr",
     "output_type": "stream",
     "text": [
      "C:\\Users\\Anu\\anaconda3\\lib\\site-packages\\tensorflow\\python\\framework\\dtypes.py:516: FutureWarning: Passing (type, 1) or '1type' as a synonym of type is deprecated; in a future version of numpy, it will be understood as (type, (1,)) / '(1,)type'.\n",
      "  _np_qint8 = np.dtype([(\"qint8\", np.int8, 1)])\n",
      "C:\\Users\\Anu\\anaconda3\\lib\\site-packages\\tensorflow\\python\\framework\\dtypes.py:517: FutureWarning: Passing (type, 1) or '1type' as a synonym of type is deprecated; in a future version of numpy, it will be understood as (type, (1,)) / '(1,)type'.\n",
      "  _np_quint8 = np.dtype([(\"quint8\", np.uint8, 1)])\n",
      "C:\\Users\\Anu\\anaconda3\\lib\\site-packages\\tensorflow\\python\\framework\\dtypes.py:518: FutureWarning: Passing (type, 1) or '1type' as a synonym of type is deprecated; in a future version of numpy, it will be understood as (type, (1,)) / '(1,)type'.\n",
      "  _np_qint16 = np.dtype([(\"qint16\", np.int16, 1)])\n",
      "C:\\Users\\Anu\\anaconda3\\lib\\site-packages\\tensorflow\\python\\framework\\dtypes.py:519: FutureWarning: Passing (type, 1) or '1type' as a synonym of type is deprecated; in a future version of numpy, it will be understood as (type, (1,)) / '(1,)type'.\n",
      "  _np_quint16 = np.dtype([(\"quint16\", np.uint16, 1)])\n",
      "C:\\Users\\Anu\\anaconda3\\lib\\site-packages\\tensorflow\\python\\framework\\dtypes.py:520: FutureWarning: Passing (type, 1) or '1type' as a synonym of type is deprecated; in a future version of numpy, it will be understood as (type, (1,)) / '(1,)type'.\n",
      "  _np_qint32 = np.dtype([(\"qint32\", np.int32, 1)])\n",
      "C:\\Users\\Anu\\anaconda3\\lib\\site-packages\\tensorflow\\python\\framework\\dtypes.py:525: FutureWarning: Passing (type, 1) or '1type' as a synonym of type is deprecated; in a future version of numpy, it will be understood as (type, (1,)) / '(1,)type'.\n",
      "  np_resource = np.dtype([(\"resource\", np.ubyte, 1)])\n",
      "C:\\Users\\Anu\\anaconda3\\lib\\site-packages\\tensorboard\\compat\\tensorflow_stub\\dtypes.py:541: FutureWarning: Passing (type, 1) or '1type' as a synonym of type is deprecated; in a future version of numpy, it will be understood as (type, (1,)) / '(1,)type'.\n",
      "  _np_qint8 = np.dtype([(\"qint8\", np.int8, 1)])\n",
      "C:\\Users\\Anu\\anaconda3\\lib\\site-packages\\tensorboard\\compat\\tensorflow_stub\\dtypes.py:542: FutureWarning: Passing (type, 1) or '1type' as a synonym of type is deprecated; in a future version of numpy, it will be understood as (type, (1,)) / '(1,)type'.\n",
      "  _np_quint8 = np.dtype([(\"quint8\", np.uint8, 1)])\n",
      "C:\\Users\\Anu\\anaconda3\\lib\\site-packages\\tensorboard\\compat\\tensorflow_stub\\dtypes.py:543: FutureWarning: Passing (type, 1) or '1type' as a synonym of type is deprecated; in a future version of numpy, it will be understood as (type, (1,)) / '(1,)type'.\n",
      "  _np_qint16 = np.dtype([(\"qint16\", np.int16, 1)])\n",
      "C:\\Users\\Anu\\anaconda3\\lib\\site-packages\\tensorboard\\compat\\tensorflow_stub\\dtypes.py:544: FutureWarning: Passing (type, 1) or '1type' as a synonym of type is deprecated; in a future version of numpy, it will be understood as (type, (1,)) / '(1,)type'.\n",
      "  _np_quint16 = np.dtype([(\"quint16\", np.uint16, 1)])\n",
      "C:\\Users\\Anu\\anaconda3\\lib\\site-packages\\tensorboard\\compat\\tensorflow_stub\\dtypes.py:545: FutureWarning: Passing (type, 1) or '1type' as a synonym of type is deprecated; in a future version of numpy, it will be understood as (type, (1,)) / '(1,)type'.\n",
      "  _np_qint32 = np.dtype([(\"qint32\", np.int32, 1)])\n",
      "C:\\Users\\Anu\\anaconda3\\lib\\site-packages\\tensorboard\\compat\\tensorflow_stub\\dtypes.py:550: FutureWarning: Passing (type, 1) or '1type' as a synonym of type is deprecated; in a future version of numpy, it will be understood as (type, (1,)) / '(1,)type'.\n",
      "  np_resource = np.dtype([(\"resource\", np.ubyte, 1)])\n"
     ]
    }
   ],
   "source": [
    "from tensorflow.keras.models import Sequential\n",
    "from tensorflow.keras.layers import Dense,Dropout"
   ]
  },
  {
   "cell_type": "code",
   "execution_count": 16,
   "metadata": {},
   "outputs": [
    {
     "name": "stdout",
     "output_type": "stream",
     "text": [
      "WARNING:tensorflow:From C:\\Users\\Anu\\anaconda3\\lib\\site-packages\\tensorflow\\python\\ops\\init_ops.py:1251: calling VarianceScaling.__init__ (from tensorflow.python.ops.init_ops) with dtype is deprecated and will be removed in a future version.\n",
      "Instructions for updating:\n",
      "Call initializer instance with the dtype argument instead of passing it to the constructor\n"
     ]
    }
   ],
   "source": [
    "model =Sequential()\n",
    "model.add(Dense(30,activation='relu'))\n",
    "model.add(Dense(15,activation='relu'))\n",
    "model.add(Dense(1,activation='sigmoid'))"
   ]
  },
  {
   "cell_type": "code",
   "execution_count": 17,
   "metadata": {},
   "outputs": [],
   "source": [
    "model.compile(loss='binary_crossentropy',optimizer='adam')"
   ]
  },
  {
   "cell_type": "code",
   "execution_count": 18,
   "metadata": {},
   "outputs": [
    {
     "name": "stdout",
     "output_type": "stream",
     "text": [
      "WARNING:tensorflow:From C:\\Users\\Anu\\anaconda3\\lib\\site-packages\\tensorflow\\python\\ops\\nn_impl.py:180: add_dispatch_support.<locals>.wrapper (from tensorflow.python.ops.array_ops) is deprecated and will be removed in a future version.\n",
      "Instructions for updating:\n",
      "Use tf.where in 2.0, which has the same broadcast rule as np.where\n",
      "Train on 960 samples, validate on 412 samples\n",
      "Epoch 1/100\n",
      "960/960 [==============================] - 0s 216us/sample - loss: 0.6817 - val_loss: 0.6769\n",
      "Epoch 2/100\n",
      "960/960 [==============================] - 0s 36us/sample - loss: 0.6602 - val_loss: 0.6618\n",
      "Epoch 3/100\n",
      "960/960 [==============================] - 0s 61us/sample - loss: 0.6415 - val_loss: 0.6445\n",
      "Epoch 4/100\n",
      "960/960 [==============================] - 0s 38us/sample - loss: 0.6171 - val_loss: 0.6209\n",
      "Epoch 5/100\n",
      "960/960 [==============================] - 0s 42us/sample - loss: 0.5874 - val_loss: 0.5951\n",
      "Epoch 6/100\n",
      "960/960 [==============================] - 0s 37us/sample - loss: 0.5552 - val_loss: 0.5677\n",
      "Epoch 7/100\n",
      "960/960 [==============================] - 0s 36us/sample - loss: 0.5160 - val_loss: 0.5333\n",
      "Epoch 8/100\n",
      "960/960 [==============================] - 0s 37us/sample - loss: 0.4768 - val_loss: 0.5027\n",
      "Epoch 9/100\n",
      "960/960 [==============================] - 0s 40us/sample - loss: 0.4374 - val_loss: 0.4707\n",
      "Epoch 10/100\n",
      "960/960 [==============================] - 0s 36us/sample - loss: 0.4034 - val_loss: 0.4435\n",
      "Epoch 11/100\n",
      "960/960 [==============================] - 0s 36us/sample - loss: 0.3732 - val_loss: 0.4125\n",
      "Epoch 12/100\n",
      "960/960 [==============================] - 0s 38us/sample - loss: 0.3436 - val_loss: 0.3885\n",
      "Epoch 13/100\n",
      "960/960 [==============================] - 0s 43us/sample - loss: 0.3174 - val_loss: 0.3660\n",
      "Epoch 14/100\n",
      "960/960 [==============================] - 0s 41us/sample - loss: 0.2955 - val_loss: 0.3397\n",
      "Epoch 15/100\n",
      "960/960 [==============================] - 0s 38us/sample - loss: 0.2709 - val_loss: 0.3196\n",
      "Epoch 16/100\n",
      "960/960 [==============================] - 0s 36us/sample - loss: 0.2502 - val_loss: 0.2950\n",
      "Epoch 17/100\n",
      "960/960 [==============================] - 0s 61us/sample - loss: 0.2303 - val_loss: 0.2706\n",
      "Epoch 18/100\n",
      "960/960 [==============================] - 0s 43us/sample - loss: 0.2145 - val_loss: 0.2559\n",
      "Epoch 19/100\n",
      "960/960 [==============================] - 0s 41us/sample - loss: 0.1969 - val_loss: 0.2324\n",
      "Epoch 20/100\n",
      "960/960 [==============================] - 0s 40us/sample - loss: 0.1796 - val_loss: 0.2165\n",
      "Epoch 21/100\n",
      "960/960 [==============================] - 0s 39us/sample - loss: 0.1643 - val_loss: 0.2009\n",
      "Epoch 22/100\n",
      "960/960 [==============================] - 0s 37us/sample - loss: 0.1507 - val_loss: 0.1836\n",
      "Epoch 23/100\n",
      "960/960 [==============================] - 0s 62us/sample - loss: 0.1393 - val_loss: 0.1654\n",
      "Epoch 24/100\n",
      "960/960 [==============================] - 0s 38us/sample - loss: 0.1257 - val_loss: 0.1531\n",
      "Epoch 25/100\n",
      "960/960 [==============================] - 0s 37us/sample - loss: 0.1152 - val_loss: 0.1393\n",
      "Epoch 26/100\n",
      "960/960 [==============================] - 0s 65us/sample - loss: 0.1058 - val_loss: 0.1277\n",
      "Epoch 27/100\n",
      "960/960 [==============================] - 0s 39us/sample - loss: 0.0968 - val_loss: 0.1232\n",
      "Epoch 28/100\n",
      "960/960 [==============================] - 0s 38us/sample - loss: 0.0899 - val_loss: 0.1089\n",
      "Epoch 29/100\n",
      "960/960 [==============================] - 0s 38us/sample - loss: 0.0832 - val_loss: 0.1016\n",
      "Epoch 30/100\n",
      "960/960 [==============================] - 0s 38us/sample - loss: 0.0788 - val_loss: 0.0978\n",
      "Epoch 31/100\n",
      "960/960 [==============================] - 0s 41us/sample - loss: 0.0735 - val_loss: 0.0882\n",
      "Epoch 32/100\n",
      "960/960 [==============================] - 0s 41us/sample - loss: 0.0683 - val_loss: 0.0825\n",
      "Epoch 33/100\n",
      "960/960 [==============================] - 0s 41us/sample - loss: 0.0639 - val_loss: 0.0780\n",
      "Epoch 34/100\n",
      "960/960 [==============================] - 0s 63us/sample - loss: 0.0600 - val_loss: 0.0741\n",
      "Epoch 35/100\n",
      "960/960 [==============================] - 0s 63us/sample - loss: 0.0570 - val_loss: 0.0707\n",
      "Epoch 36/100\n",
      "960/960 [==============================] - 0s 42us/sample - loss: 0.0536 - val_loss: 0.0666\n",
      "Epoch 37/100\n",
      "960/960 [==============================] - 0s 72us/sample - loss: 0.0522 - val_loss: 0.0623\n",
      "Epoch 38/100\n",
      "960/960 [==============================] - 0s 72us/sample - loss: 0.0486 - val_loss: 0.0629\n",
      "Epoch 39/100\n",
      "960/960 [==============================] - 0s 45us/sample - loss: 0.0476 - val_loss: 0.0568\n",
      "Epoch 40/100\n",
      "960/960 [==============================] - 0s 43us/sample - loss: 0.0459 - val_loss: 0.0566\n",
      "Epoch 41/100\n",
      "960/960 [==============================] - 0s 42us/sample - loss: 0.0429 - val_loss: 0.0533\n",
      "Epoch 42/100\n",
      "960/960 [==============================] - 0s 39us/sample - loss: 0.0413 - val_loss: 0.0502\n",
      "Epoch 43/100\n",
      "960/960 [==============================] - 0s 66us/sample - loss: 0.0391 - val_loss: 0.0476\n",
      "Epoch 44/100\n",
      "960/960 [==============================] - 0s 39us/sample - loss: 0.0377 - val_loss: 0.0461\n",
      "Epoch 45/100\n",
      "960/960 [==============================] - 0s 42us/sample - loss: 0.0367 - val_loss: 0.0446\n",
      "Epoch 46/100\n",
      "960/960 [==============================] - 0s 41us/sample - loss: 0.0352 - val_loss: 0.0445\n",
      "Epoch 47/100\n",
      "960/960 [==============================] - 0s 40us/sample - loss: 0.0352 - val_loss: 0.0415\n",
      "Epoch 48/100\n",
      "960/960 [==============================] - 0s 85us/sample - loss: 0.0344 - val_loss: 0.0422\n",
      "Epoch 49/100\n",
      "960/960 [==============================] - 0s 54us/sample - loss: 0.0324 - val_loss: 0.0425\n",
      "Epoch 50/100\n",
      "960/960 [==============================] - 0s 48us/sample - loss: 0.0313 - val_loss: 0.0385\n",
      "Epoch 51/100\n",
      "960/960 [==============================] - 0s 42us/sample - loss: 0.0297 - val_loss: 0.0363\n",
      "Epoch 52/100\n",
      "960/960 [==============================] - 0s 45us/sample - loss: 0.0289 - val_loss: 0.0361\n",
      "Epoch 53/100\n",
      "960/960 [==============================] - 0s 38us/sample - loss: 0.0279 - val_loss: 0.0341\n",
      "Epoch 54/100\n",
      "960/960 [==============================] - 0s 36us/sample - loss: 0.0274 - val_loss: 0.0330\n",
      "Epoch 55/100\n",
      "960/960 [==============================] - 0s 38us/sample - loss: 0.0266 - val_loss: 0.0321\n",
      "Epoch 56/100\n",
      "960/960 [==============================] - 0s 38us/sample - loss: 0.0262 - val_loss: 0.0312\n",
      "Epoch 57/100\n",
      "960/960 [==============================] - 0s 38us/sample - loss: 0.0251 - val_loss: 0.0309\n",
      "Epoch 58/100\n",
      "960/960 [==============================] - 0s 37us/sample - loss: 0.0245 - val_loss: 0.0302\n",
      "Epoch 59/100\n",
      "960/960 [==============================] - 0s 58us/sample - loss: 0.0244 - val_loss: 0.0292\n",
      "Epoch 60/100\n",
      "960/960 [==============================] - 0s 43us/sample - loss: 0.0233 - val_loss: 0.0293\n",
      "Epoch 61/100\n",
      "960/960 [==============================] - 0s 37us/sample - loss: 0.0231 - val_loss: 0.0277\n",
      "Epoch 62/100\n",
      "960/960 [==============================] - 0s 39us/sample - loss: 0.0222 - val_loss: 0.0287\n",
      "Epoch 63/100\n",
      "960/960 [==============================] - 0s 64us/sample - loss: 0.0218 - val_loss: 0.0259\n",
      "Epoch 64/100\n",
      "960/960 [==============================] - 0s 40us/sample - loss: 0.0211 - val_loss: 0.0258\n",
      "Epoch 65/100\n",
      "960/960 [==============================] - 0s 37us/sample - loss: 0.0215 - val_loss: 0.0247\n",
      "Epoch 66/100\n",
      "960/960 [==============================] - 0s 37us/sample - loss: 0.0201 - val_loss: 0.0250\n",
      "Epoch 67/100\n",
      "960/960 [==============================] - 0s 59us/sample - loss: 0.0196 - val_loss: 0.0249\n",
      "Epoch 68/100\n",
      "960/960 [==============================] - 0s 67us/sample - loss: 0.0203 - val_loss: 0.0257\n",
      "Epoch 69/100\n",
      "960/960 [==============================] - 0s 41us/sample - loss: 0.0196 - val_loss: 0.0237\n",
      "Epoch 70/100\n",
      "960/960 [==============================] - 0s 62us/sample - loss: 0.0189 - val_loss: 0.0234\n",
      "Epoch 71/100\n",
      "960/960 [==============================] - 0s 37us/sample - loss: 0.0187 - val_loss: 0.0265\n",
      "Epoch 72/100\n",
      "960/960 [==============================] - 0s 61us/sample - loss: 0.0180 - val_loss: 0.0211\n",
      "Epoch 73/100\n",
      "960/960 [==============================] - 0s 38us/sample - loss: 0.0178 - val_loss: 0.0218\n",
      "Epoch 74/100\n",
      "960/960 [==============================] - 0s 35us/sample - loss: 0.0168 - val_loss: 0.0203\n",
      "Epoch 75/100\n"
     ]
    },
    {
     "name": "stdout",
     "output_type": "stream",
     "text": [
      "960/960 [==============================] - 0s 34us/sample - loss: 0.0172 - val_loss: 0.0209\n",
      "Epoch 76/100\n",
      "960/960 [==============================] - 0s 60us/sample - loss: 0.0168 - val_loss: 0.0215\n",
      "Epoch 77/100\n",
      "960/960 [==============================] - 0s 41us/sample - loss: 0.0167 - val_loss: 0.0211\n",
      "Epoch 78/100\n",
      "960/960 [==============================] - 0s 35us/sample - loss: 0.0162 - val_loss: 0.0186\n",
      "Epoch 79/100\n",
      "960/960 [==============================] - 0s 36us/sample - loss: 0.0157 - val_loss: 0.0192\n",
      "Epoch 80/100\n",
      "960/960 [==============================] - 0s 37us/sample - loss: 0.0155 - val_loss: 0.0185\n",
      "Epoch 81/100\n",
      "960/960 [==============================] - 0s 36us/sample - loss: 0.0150 - val_loss: 0.0178\n",
      "Epoch 82/100\n",
      "960/960 [==============================] - 0s 37us/sample - loss: 0.0158 - val_loss: 0.0174\n",
      "Epoch 83/100\n",
      "960/960 [==============================] - 0s 38us/sample - loss: 0.0151 - val_loss: 0.0169\n",
      "Epoch 84/100\n",
      "960/960 [==============================] - 0s 37us/sample - loss: 0.0145 - val_loss: 0.0177\n",
      "Epoch 85/100\n",
      "960/960 [==============================] - 0s 38us/sample - loss: 0.0143 - val_loss: 0.0166\n",
      "Epoch 86/100\n",
      "960/960 [==============================] - 0s 68us/sample - loss: 0.0143 - val_loss: 0.0160\n",
      "Epoch 87/100\n",
      "960/960 [==============================] - 0s 37us/sample - loss: 0.0137 - val_loss: 0.0200\n",
      "Epoch 88/100\n",
      "960/960 [==============================] - 0s 37us/sample - loss: 0.0136 - val_loss: 0.0153\n",
      "Epoch 89/100\n",
      "960/960 [==============================] - 0s 38us/sample - loss: 0.0138 - val_loss: 0.0154\n",
      "Epoch 90/100\n",
      "960/960 [==============================] - 0s 42us/sample - loss: 0.0129 - val_loss: 0.0149\n",
      "Epoch 91/100\n",
      "960/960 [==============================] - 0s 42us/sample - loss: 0.0127 - val_loss: 0.0184\n",
      "Epoch 92/100\n",
      "960/960 [==============================] - ETA: 0s - loss: 0.002 - 0s 43us/sample - loss: 0.0129 - val_loss: 0.0147\n",
      "Epoch 93/100\n",
      "960/960 [==============================] - 0s 63us/sample - loss: 0.0140 - val_loss: 0.0140\n",
      "Epoch 94/100\n",
      "960/960 [==============================] - 0s 43us/sample - loss: 0.0127 - val_loss: 0.0143\n",
      "Epoch 95/100\n",
      "960/960 [==============================] - 0s 42us/sample - loss: 0.0124 - val_loss: 0.0136\n",
      "Epoch 96/100\n",
      "960/960 [==============================] - 0s 38us/sample - loss: 0.0146 - val_loss: 0.0182\n",
      "Epoch 97/100\n",
      "960/960 [==============================] - 0s 38us/sample - loss: 0.0135 - val_loss: 0.0205\n",
      "Epoch 98/100\n",
      "960/960 [==============================] - 0s 44us/sample - loss: 0.0122 - val_loss: 0.0130\n",
      "Epoch 99/100\n",
      "960/960 [==============================] - 0s 39us/sample - loss: 0.0109 - val_loss: 0.0124\n",
      "Epoch 100/100\n",
      "960/960 [==============================] - 0s 38us/sample - loss: 0.0105 - val_loss: 0.0172\n"
     ]
    },
    {
     "data": {
      "text/plain": [
       "<tensorflow.python.keras.callbacks.History at 0x1ed242cbd88>"
      ]
     },
     "execution_count": 18,
     "metadata": {},
     "output_type": "execute_result"
    }
   ],
   "source": [
    "model.fit(X_train,y_train,epochs=100,validation_data=(X_test,y_test))"
   ]
  },
  {
   "cell_type": "code",
   "execution_count": 19,
   "metadata": {},
   "outputs": [
    {
     "data": {
      "text/plain": [
       "<AxesSubplot:>"
      ]
     },
     "execution_count": 19,
     "metadata": {},
     "output_type": "execute_result"
    },
    {
     "data": {
      "image/png": "[encoded data removed]",
      "text/plain": [
       "<Figure size 432x288 with 1 Axes>"
      ]
     },
     "metadata": {
      "needs_background": "light"
     },
     "output_type": "display_data"
    }
   ],
   "source": [
    "losses = pd.DataFrame(model.history.history)\n",
    "losses.plot()"
   ]
  },
  {
   "cell_type": "code",
   "execution_count": 20,
   "metadata": {},
   "outputs": [],
   "source": [
    "predictions = model.predict_classes(X_test)"
   ]
  },
  {
   "cell_type": "code",
   "execution_count": 21,
   "metadata": {},
   "outputs": [],
   "source": [
    "from sklearn.metrics import classification_report,confusion_matrix"
   ]
  },
  {
   "cell_type": "code",
   "execution_count": 22,
   "metadata": {},
   "outputs": [
    {
     "name": "stdout",
     "output_type": "stream",
     "text": [
      "              precision    recall  f1-score   support\n",
      "\n",
      "           0       1.00      0.99      0.99       219\n",
      "           1       0.98      1.00      0.99       193\n",
      "\n",
      "    accuracy                           0.99       412\n",
      "   macro avg       0.99      0.99      0.99       412\n",
      "weighted avg       0.99      0.99      0.99       412\n",
      "\n"
     ]
    }
   ],
   "source": [
    "print(classification_report(y_test,predictions))"
   ]
  },
  {
   "cell_type": "code",
   "execution_count": 23,
   "metadata": {},
   "outputs": [
    {
     "name": "stdout",
     "output_type": "stream",
     "text": [
      "[[216   3]\n",
      " [  0 193]]\n"
     ]
    }
   ],
   "source": [
    "print(confusion_matrix(y_test,predictions))"
   ]
  }
 ],
 "metadata": {
  "kernelspec": {
   "display_name": "Python 3",
   "language": "python",
   "name": "python3"
  },
  "language_info": {
   "codemirror_mode": {
    "name": "ipython",
    "version": 3
   },
   "file_extension": ".py",
   "mimetype": "text/x-python",
   "name": "python",
   "nbconvert_exporter": "python",
   "pygments_lexer": "ipython3",
   "version": "3.7.7"
  }
 },
 "nbformat": 4,
 "nbformat_minor": 4
}
